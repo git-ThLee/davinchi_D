{
  "nbformat": 4,
  "nbformat_minor": 0,
  "metadata": {
    "colab": {
      "provenance": [],
      "toc_visible": true
    },
    "kernelspec": {
      "name": "python3",
      "display_name": "Python 3"
    },
    "language_info": {
      "name": "python"
    }
  },
  "cells": [
    {
      "cell_type": "markdown",
      "source": [
        "# Q1. 2개 (가로)"
      ],
      "metadata": {
        "id": "HE2a1buABJXf"
      }
    },
    {
      "cell_type": "code",
      "execution_count": null,
      "metadata": {
        "id": "t2TZKu6BBGm-"
      },
      "outputs": [],
      "source": [
        "import sys, io\n",
        "file = open(\"inputs.txt\", 'w')\n",
        "data = \"\"\"\n",
        "2 4 \n",
        "\"\"\"\n",
        "file.write(data.strip())\n",
        "file.close()\n",
        "\n",
        "input_file = open(\"inputs.txt\", \"r\") \n",
        "sys.stdin = io.StringIO(input_file.read())\n",
        "\n",
        "import sys\n",
        "input = sys.stdin.readline\n",
        "# 변수 설정 -------------------------------------------\n"
      ]
    },
    {
      "cell_type": "markdown",
      "source": [
        "# Q2. 2개 (세로)"
      ],
      "metadata": {
        "id": "2HkMSd2bCGoy"
      }
    },
    {
      "cell_type": "code",
      "source": [
        "import sys, io\n",
        "file = open(\"inputs.txt\", 'w')\n",
        "data = \"\"\"\n",
        "2\n",
        "4\n",
        "\"\"\"\n",
        "file.write(data.strip())\n",
        "file.close()\n",
        "\n",
        "input_file = open(\"inputs.txt\", \"r\") \n",
        "sys.stdin = io.StringIO(input_file.read())\n",
        "\n",
        "import sys\n",
        "input = sys.stdin.readline\n",
        "# 변수 설정 -------------------------------------------\n"
      ],
      "metadata": {
        "id": "QJ31Jd1oBdnH"
      },
      "execution_count": null,
      "outputs": []
    },
    {
      "cell_type": "markdown",
      "source": [
        "# Q3. "
      ],
      "metadata": {
        "id": "WPztPAAcCIdd"
      }
    },
    {
      "cell_type": "code",
      "source": [
        "import sys, io\n",
        "file = open(\"inputs.txt\", 'w')\n",
        "data = \"\"\"\n",
        "3\n",
        "4 6\n",
        "7 8\n",
        "9 10\n",
        "\"\"\"\n",
        "file.write(data.strip())\n",
        "file.close()\n",
        "\n",
        "input_file = open(\"inputs.txt\", \"r\") \n",
        "sys.stdin = io.StringIO(input_file.read())\n",
        "\n",
        "import sys\n",
        "input = sys.stdin.readline\n",
        "# 변수 설정 -------------------------------------------\n"
      ],
      "metadata": {
        "id": "m0vSz49YBfOi"
      },
      "execution_count": null,
      "outputs": []
    },
    {
      "cell_type": "markdown",
      "source": [
        "# Q4."
      ],
      "metadata": {
        "id": "j8xzmWvfCMLy"
      }
    },
    {
      "cell_type": "code",
      "source": [
        "import sys, io\n",
        "file = open(\"inputs.txt\", 'w')\n",
        "data = \"\"\"\n",
        "2\n",
        "4\n",
        "3 4.3\n",
        "2 2\n",
        "4 0.0\n",
        "2 4.0\n",
        "3\n",
        "4 0.0\n",
        "4 0\n",
        "3 0\n",
        "\"\"\"\n",
        "file.write(data.strip())\n",
        "file.close()\n",
        "\n",
        "input_file = open(\"inputs.txt\", \"r\") \n",
        "sys.stdin = io.StringIO(input_file.read())\n",
        "\n",
        "import sys\n",
        "input = sys.stdin.readline\n",
        "# 변수 설정 -------------------------------------------\n"
      ],
      "metadata": {
        "id": "9kx3Jm96Bh4S"
      },
      "execution_count": null,
      "outputs": []
    },
    {
      "cell_type": "markdown",
      "source": [
        "# Q5. "
      ],
      "metadata": {
        "id": "-Iif2sd0CNaa"
      }
    },
    {
      "cell_type": "code",
      "source": [
        "import sys, io\n",
        "file = open(\"inputs.txt\", 'w')\n",
        "data = \"\"\"\n",
        "4 \n",
        "2 ABC\n",
        "3 CBA\n",
        "4 DDD\n",
        "5 EEE\n",
        "\"\"\"\n",
        "file.write(data.strip())\n",
        "file.close()\n",
        "\n",
        "input_file = open(\"inputs.txt\", \"r\") \n",
        "sys.stdin = io.StringIO(input_file.read())\n",
        "\n",
        "import sys\n",
        "input = sys.stdin.readline\n",
        "# 변수 설정 -------------------------------------------\n"
      ],
      "metadata": {
        "id": "x6m6lIYqBktZ"
      },
      "execution_count": null,
      "outputs": []
    },
    {
      "cell_type": "markdown",
      "source": [
        "# Q6."
      ],
      "metadata": {
        "id": "FrNUpaSNCO8V"
      }
    },
    {
      "cell_type": "code",
      "source": [
        "import sys, io\n",
        "file = open(\"inputs.txt\", 'w')\n",
        "data = \"\"\"\n",
        "3 \n",
        "2 A B C \n",
        "3 D E F \n",
        "4 G H I \n",
        "\"\"\"\n",
        "file.write(data.strip())\n",
        "file.close()\n",
        "\n",
        "input_file = open(\"inputs.txt\", \"r\") \n",
        "sys.stdin = io.StringIO(input_file.read())\n",
        "\n",
        "import sys\n",
        "input = sys.stdin.readline\n",
        "# 변수 설정 -------------------------------------------\n"
      ],
      "metadata": {
        "id": "tQlVC_AzBqGJ"
      },
      "execution_count": null,
      "outputs": []
    },
    {
      "cell_type": "markdown",
      "source": [
        "# Q7."
      ],
      "metadata": {
        "id": "eDz-7o7ZCRh_"
      }
    },
    {
      "cell_type": "code",
      "source": [
        "import sys, io\n",
        "file = open(\"inputs.txt\", 'w')\n",
        "data = \"\"\"\n",
        "1 2 \n",
        "3 3 \n",
        "4 4 \n",
        "0 0 \n",
        "\"\"\"\n",
        "file.write(data.strip())\n",
        "file.close()\n",
        "\n",
        "input_file = open(\"inputs.txt\", \"r\") \n",
        "sys.stdin = io.StringIO(input_file.read())\n",
        "\n",
        "import sys\n",
        "input = sys.stdin.readline\n",
        "# 변수 설정 -------------------------------------------\n",
        "# 0 , 0 이 입력되면 멈추기"
      ],
      "metadata": {
        "id": "b9tqXQ-WByCg"
      },
      "execution_count": null,
      "outputs": []
    },
    {
      "cell_type": "markdown",
      "source": [
        "# Q8."
      ],
      "metadata": {
        "id": "uD2Z0sFICS3C"
      }
    },
    {
      "cell_type": "code",
      "source": [
        "import sys, io\n",
        "file = open(\"inputs.txt\", 'w')\n",
        "data = \"\"\"\n",
        "1 2 \n",
        "3 3 \n",
        "4 4 \n",
        "-1 -1  \n",
        "\"\"\"\n",
        "file.write(data.strip())\n",
        "file.close()\n",
        "\n",
        "input_file = open(\"inputs.txt\", \"r\") \n",
        "sys.stdin = io.StringIO(input_file.read())\n",
        "\n",
        "import sys\n",
        "input = sys.stdin.readline\n",
        "# 변수 설정 -------------------------------------------\n",
        "# -1, -1 이 입력되면 멈추기"
      ],
      "metadata": {
        "id": "GjlW9pFsB_lR"
      },
      "execution_count": null,
      "outputs": []
    }
  ]
}