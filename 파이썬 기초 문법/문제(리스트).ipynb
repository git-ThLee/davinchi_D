{
  "nbformat": 4,
  "nbformat_minor": 0,
  "metadata": {
    "colab": {
      "provenance": [],
      "toc_visible": true
    },
    "kernelspec": {
      "name": "python3",
      "display_name": "Python 3"
    },
    "language_info": {
      "name": "python"
    }
  },
  "cells": [
    {
      "cell_type": "code",
      "execution_count": null,
      "metadata": {
        "id": "bVry65-lCWDj"
      },
      "outputs": [],
      "source": []
    },
    {
      "cell_type": "markdown",
      "source": [
        "## 문제\n",
        "\n",
        "movie_rank 리스트에\"슈퍼맨\"을 \"닥터 스트레인지\"와 \"스플릿\" 사이에 추가하라."
      ],
      "metadata": {
        "id": "Xsq1cTS3CcAP"
      }
    },
    {
      "cell_type": "code",
      "source": [
        "movie_rank = ['닥터 스트레인지', '스플릿', '럭키', '배트맨']"
      ],
      "metadata": {
        "id": "cH3j32ZfCi25"
      },
      "execution_count": null,
      "outputs": []
    },
    {
      "cell_type": "markdown",
      "source": [
        "## 문제\n",
        "\n",
        "movie_rank 리스트에서 '럭키'를 삭제하라."
      ],
      "metadata": {
        "id": "5s4pXLP1ClhZ"
      }
    },
    {
      "cell_type": "code",
      "source": [
        "movie_rank = ['닥터 스트레인지', '슈퍼맨', '스플릿', '럭키', '배트맨']"
      ],
      "metadata": {
        "id": "T47chfliCp9r"
      },
      "execution_count": null,
      "outputs": []
    },
    {
      "cell_type": "markdown",
      "source": [
        "## 문제 \n",
        "\n",
        "movie_rank 리스트에서 '스플릿' 과 '배트맨'을 를 삭제하라."
      ],
      "metadata": {
        "id": "ZEDDyjHlCrHx"
      }
    },
    {
      "cell_type": "code",
      "source": [
        "movie_rank = ['닥터 스트레인지', '슈퍼맨', '스플릿', '배트맨']"
      ],
      "metadata": {
        "id": "efHJBI5LCtnB"
      },
      "execution_count": null,
      "outputs": []
    },
    {
      "cell_type": "markdown",
      "source": [
        "## 문제\n",
        "\n",
        "lang1과 lang2 리스트가 있을 때 lang1과 lang2의 원소를 모두 갖고 있는 langs 리스트를 만들어라.\n",
        "```\n",
        "실행 예:\n",
        ">> langs\n",
        "['C', 'C++', 'JAVA', 'Python', 'Go', 'C#']\n",
        "```"
      ],
      "metadata": {
        "id": "wxLIVVYpCvcA"
      }
    },
    {
      "cell_type": "code",
      "source": [
        "lang1 = [\"C\", \"C++\", \"JAVA\"]\n",
        "lang2 = [\"Python\", \"Go\", \"C#\"]"
      ],
      "metadata": {
        "id": "_IaRoT58CzLR"
      },
      "execution_count": null,
      "outputs": []
    },
    {
      "cell_type": "markdown",
      "source": [
        "## 문제\n",
        "\n",
        "다음 리스트에서 최댓값과 최솟값을 출력하라. (힌트: min(), max() 함수 사용)\n",
        "```\n",
        "실행 예:\n",
        "max:  7\n",
        "min:  1\n",
        "```"
      ],
      "metadata": {
        "id": "2Gd6niu9C0w5"
      }
    },
    {
      "cell_type": "code",
      "source": [
        "nums = [1, 2, 3, 4, 5, 6, 7]"
      ],
      "metadata": {
        "id": "02u0WJAHC3I-"
      },
      "execution_count": null,
      "outputs": []
    },
    {
      "cell_type": "markdown",
      "source": [
        "## 문제\n",
        "\n",
        "다음 리스트의 합을 출력하라.\n",
        "```\n",
        "실행 예:\n",
        "15\n",
        "```"
      ],
      "metadata": {
        "id": "IlTV5MweC47P"
      }
    },
    {
      "cell_type": "code",
      "source": [
        "nums = [1, 2, 3, 4, 5]"
      ],
      "metadata": {
        "id": "rn6-utJ3C7i6"
      },
      "execution_count": null,
      "outputs": []
    },
    {
      "cell_type": "markdown",
      "source": [
        "## 문제\n",
        "\n",
        "다음 리스트에 저장된 데이터의 개수를 화면에 구하하라."
      ],
      "metadata": {
        "id": "vcFOYnIsC84Z"
      }
    },
    {
      "cell_type": "code",
      "source": [
        "cook = [\"피자\", \"김밥\", \"만두\", \"양념치킨\", \"족발\", \"피자\", \"김치만두\", \"쫄면\", \"쏘세지\", \"라면\", \"팥빙수\", \"김치전\"]"
      ],
      "metadata": {
        "id": "XWrhCkaGC-h1"
      },
      "execution_count": null,
      "outputs": []
    },
    {
      "cell_type": "markdown",
      "source": [
        "## 문제\n",
        "\n",
        "다음 리스트의 평균을 출력하라.\n",
        "```\n",
        "실행 예:\n",
        "3.0\n",
        "```"
      ],
      "metadata": {
        "id": "Gs6tJ4ZvDAdR"
      }
    },
    {
      "cell_type": "code",
      "source": [
        "nums = [1, 2, 3, 4, 5]"
      ],
      "metadata": {
        "id": "pbwg4XbADC3p"
      },
      "execution_count": null,
      "outputs": []
    },
    {
      "cell_type": "markdown",
      "source": [
        "## 문제(중간지점)\n",
        "\n",
        "price 변수에는 날짜와 종가 정보가 저장돼 있다. 날짜 정보를 제외하고 가격 정보만을 출력하라. (힌트 : 슬라이싱)\n",
        "```\n",
        "출력 예시:\n",
        "[100, 130, 140, 150, 160, 170]\n",
        "```"
      ],
      "metadata": {
        "id": "VQgbxyT8DFbY"
      }
    },
    {
      "cell_type": "code",
      "source": [
        "price = ['20180728', 100, 130, 140, 150, 160, 170]"
      ],
      "metadata": {
        "id": "xH2F6uUmDJ_R"
      },
      "execution_count": null,
      "outputs": []
    },
    {
      "cell_type": "markdown",
      "source": [
        "## 문제\n",
        "\n",
        "슬라이싱을 사용해서 홀수만 출력하라.\n",
        "```\n",
        "실행 예:\n",
        "[1, 3, 5, 7, 9]\n",
        "```"
      ],
      "metadata": {
        "id": "r23jIbx9DLKP"
      }
    },
    {
      "cell_type": "code",
      "source": [
        "nums = [1, 2, 3, 4, 5, 6, 7, 8, 9, 10]"
      ],
      "metadata": {
        "id": "-3F69lisDNZ-"
      },
      "execution_count": null,
      "outputs": []
    },
    {
      "cell_type": "markdown",
      "source": [
        "## 문제\n",
        "\n",
        "슬라이싱을 사용해서 짝수만 출력하라.\n",
        "```\n",
        "실행 예:\n",
        "[2, 4, 6, 8, 10]\n",
        "```"
      ],
      "metadata": {
        "id": "Uprr38HjDOYu"
      }
    },
    {
      "cell_type": "code",
      "source": [
        "nums = [1, 2, 3, 4, 5, 6, 7, 8, 9, 10]"
      ],
      "metadata": {
        "id": "0C5n2dMnDQkR"
      },
      "execution_count": null,
      "outputs": []
    },
    {
      "cell_type": "markdown",
      "source": [
        "## 문제\n",
        "\n",
        "슬라이싱을 사용해서 리스트의 숫자를 역 방향으로 출력하라.\n",
        "```\n",
        "실행 예:\n",
        "[5, 4, 3, 2, 1]\n",
        "```"
      ],
      "metadata": {
        "id": "l24L_QQdDRpF"
      }
    },
    {
      "cell_type": "code",
      "source": [
        "nums = [1, 2, 3, 4, 5]"
      ],
      "metadata": {
        "id": "6S9-5r4zDUO1"
      },
      "execution_count": null,
      "outputs": []
    },
    {
      "cell_type": "markdown",
      "source": [
        "## 문제\n",
        "\n",
        "interest 리스트를 사용하여 아래와 같이 화면에 출력하라.\n",
        "```\n",
        "출력 예시:\n",
        "삼성전자 Naver\n",
        "```"
      ],
      "metadata": {
        "id": "-fuwSDunDWt8"
      }
    },
    {
      "cell_type": "code",
      "source": [
        "interest = ['삼성전자', 'LG전자', 'Naver']"
      ],
      "metadata": {
        "id": "K4PbVv93DaHY"
      },
      "execution_count": null,
      "outputs": []
    },
    {
      "cell_type": "markdown",
      "source": [
        "## 문제\n",
        "\n",
        "interest 리스트를 사용하여 아래와 같이 화면에 출력하라.\n",
        "```\n",
        "출력 예시:\n",
        "삼성전자 LG전자 Naver SK하이닉스 미래에셋대우\n",
        "```"
      ],
      "metadata": {
        "id": "k55K2c2RDayA"
      }
    },
    {
      "cell_type": "code",
      "source": [
        "interest = ['삼성전자', 'LG전자', 'Naver', 'SK하이닉스', '미래에셋대우']"
      ],
      "metadata": {
        "id": "jhyor8TODd6I"
      },
      "execution_count": null,
      "outputs": []
    },
    {
      "cell_type": "markdown",
      "source": [
        "## 문제\n",
        "\n",
        "interest 리스트를 사용하여 아래와 같이 화면에 출력하라.\n",
        "```\n",
        "출력 예시:\n",
        "삼성전자/LG전자/Naver/SK하이닉스/미래에셋대우\n",
        "```"
      ],
      "metadata": {
        "id": "kHadJRI-DhC2"
      }
    },
    {
      "cell_type": "code",
      "source": [
        "interest = ['삼성전자', 'LG전자', 'Naver', 'SK하이닉스', '미래에셋대우']"
      ],
      "metadata": {
        "id": "k9xo5iMdDr9i"
      },
      "execution_count": null,
      "outputs": []
    },
    {
      "cell_type": "markdown",
      "source": [
        "## 문제\n",
        "\n",
        "interest 리스트를 사용하여 아래와 같이 화면에 출력하라.\n",
        "```\n",
        "출력 예시:\n",
        "삼성전자\n",
        "LG전자\n",
        "Naver\n",
        "SK하이닉스\n",
        "미래에셋대우\n",
        "```"
      ],
      "metadata": {
        "id": "QkJhIsPMDqH-"
      }
    },
    {
      "cell_type": "markdown",
      "source": [
        "## 문제\n",
        "\n",
        "interest 이름의 리스트로 분리 저장하라.\n",
        "```\n",
        "실행 예시\n",
        ">> print(interest)\n",
        "['삼성전자', 'LG전자', 'Naver']\n",
        "```"
      ],
      "metadata": {
        "id": "71pZ8MTdDuzW"
      }
    },
    {
      "cell_type": "code",
      "source": [
        "string = \"삼성전자/LG전자/Naver\""
      ],
      "metadata": {
        "id": "bdUSOUbMDxBE"
      },
      "execution_count": null,
      "outputs": []
    },
    {
      "cell_type": "markdown",
      "source": [
        "## 문제\n",
        "\n",
        "interest 이름의 리스트로 분리 저장하라.\n",
        "```\n",
        "실행 예시\n",
        ">> print(interest)\n",
        "['삼성전자', 'LG전자', 'Naver', 'SK하이닉스', '미래에셋대우']\n",
        "```"
      ],
      "metadata": {
        "id": "w1gZ4a2ZDzrF"
      }
    },
    {
      "cell_type": "code",
      "source": [
        "string = \"삼성전자/LG전자/Naver/SK하이닉스/미래에셋대우\""
      ],
      "metadata": {
        "id": "eQWSDItqD2ff"
      },
      "execution_count": null,
      "outputs": []
    }
  ]
}