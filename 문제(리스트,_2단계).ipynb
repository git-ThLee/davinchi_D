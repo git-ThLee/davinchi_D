{
  "nbformat": 4,
  "nbformat_minor": 0,
  "metadata": {
    "colab": {
      "provenance": []
    },
    "kernelspec": {
      "name": "python3",
      "display_name": "Python 3"
    },
    "language_info": {
      "name": "python"
    }
  },
  "cells": [
    {
      "cell_type": "code",
      "execution_count": null,
      "metadata": {
        "id": "Msa8jeVkE767"
      },
      "outputs": [],
      "source": []
    },
    {
      "cell_type": "markdown",
      "source": [
        "## 문제 \n",
        "\n",
        "리스트 a에서 숫자 7을 꺼내시오."
      ],
      "metadata": {
        "id": "2TFIUNDqFSIB"
      }
    },
    {
      "cell_type": "code",
      "source": [
        "a = [1, 2, 3, [4, 5, [6, 7, 8]]]"
      ],
      "metadata": {
        "id": "l40sbqMDFT1V"
      },
      "execution_count": null,
      "outputs": []
    },
    {
      "cell_type": "markdown",
      "source": [
        "## 문제\n",
        "\n",
        "리스트 a에서 숫자 7을 77로 바꾸시오."
      ],
      "metadata": {
        "id": "eFbUrN1KFcA6"
      }
    },
    {
      "cell_type": "code",
      "source": [
        "a = [1, 2, 3, [4, 5, [6, 7, 8]]]"
      ],
      "metadata": {
        "id": "vMF9JwxVFgje"
      },
      "execution_count": null,
      "outputs": []
    },
    {
      "cell_type": "markdown",
      "source": [
        "## 문제\n",
        "\n",
        "리스트 a에서 숫자 3, 6, 9 를 출력하시오\n",
        "```\n",
        "실행 예시 :\n",
        "3 6 9\n",
        "```"
      ],
      "metadata": {
        "id": "WiyAvTmdFg-W"
      }
    },
    {
      "cell_type": "code",
      "source": [
        "a = [[1,[2,3],4,[5,6],[7,8].9]]"
      ],
      "metadata": {
        "id": "3aYmzb7kFkDa"
      },
      "execution_count": null,
      "outputs": []
    },
    {
      "cell_type": "markdown",
      "source": [
        "## 문제\n",
        "\n",
        "리스트 a에서 숫자 11, 14, 17 를 출력하시오.\n",
        "```\n",
        "실행 예시 :\n",
        "11 14 17\n",
        "```"
      ],
      "metadata": {
        "id": "7pjXjefCF7Ds"
      }
    },
    {
      "cell_type": "code",
      "source": [
        "a = [[1,[2,3],4,[5,6],[7,8].9], [10, 11], 12 , [13,14], 15, [16,17],18]"
      ],
      "metadata": {
        "id": "Hv8Ep98DF8KM"
      },
      "execution_count": null,
      "outputs": []
    },
    {
      "cell_type": "markdown",
      "source": [
        "## 문제\n",
        "\n",
        "리스트 a,b,c를 활용해서 다음을 출력하시오.\n",
        "(출력할 때, 직접 숫자를 사용하지 말 것)\n",
        "```\n",
        "실행 예시 :\n",
        "[[1, 2, 3],[4, 5, 6],[7, 8, 9]]\n",
        "```"
      ],
      "metadata": {
        "id": "3_5PDs1QGLqW"
      }
    },
    {
      "cell_type": "code",
      "source": [
        "a = [1, 2, 3]\n",
        "b = [4, 5, 6]\n",
        "c = [7, 8, 9]"
      ],
      "metadata": {
        "id": "z_BgpE1fGN6x"
      },
      "execution_count": null,
      "outputs": []
    },
    {
      "cell_type": "markdown",
      "source": [
        "## 문제\n",
        "\n",
        "리스트 a에서 리스트 [5,6] 를 출력하시오.\n",
        "```\n",
        "실행 예시 :\n",
        "[5,6]\n",
        "```"
      ],
      "metadata": {
        "id": "njdm6uqhG0D3"
      }
    },
    {
      "cell_type": "code",
      "source": [
        "a = [[[[1,[2,3],[4,[5,6]]]]]]"
      ],
      "metadata": {
        "id": "76ojFLOZG1Ji"
      },
      "execution_count": null,
      "outputs": []
    },
    {
      "cell_type": "markdown",
      "source": [
        "## 문제\n",
        "\n",
        "리스트 a를 활용해서 다음과 같이 출력하시오.  \n",
        "(코드 상에서 리스트 a 외에 숫자를 사용하지 마시오.)\n",
        "```\n",
        "실행 예시 :\n",
        "[[7, 8, 9], [9, 8, 7], [7, 8, 9]]\n",
        "```"
      ],
      "metadata": {
        "id": "Sazl4q59HcpU"
      }
    },
    {
      "cell_type": "code",
      "source": [
        "a = [9 , 8 , 7]"
      ],
      "metadata": {
        "id": "iVh2gKZyHdiD"
      },
      "execution_count": null,
      "outputs": []
    },
    {
      "cell_type": "markdown",
      "source": [
        "## 문제\n",
        "\n",
        "리스트 a를 활용해서 다음과 같이 출력하시오.  \n",
        "(코드 상에서 리스트 a 외에 숫자를 사용하지 마시오.)\n",
        "```\n",
        "실행 예시 :\n",
        "[[7, 9], [8, 7], [8, 9]]\n",
        "```"
      ],
      "metadata": {
        "id": "8knRt8HOIZjt"
      }
    },
    {
      "cell_type": "code",
      "source": [
        "a = [9 , 8 , 7]"
      ],
      "metadata": {
        "id": "EgMIp0bcIfx_"
      },
      "execution_count": null,
      "outputs": []
    },
    {
      "cell_type": "markdown",
      "source": [
        "## 문제\n",
        "\n",
        "리스트 a를 활용해서 다음과 같이 출력하시오.  \n",
        "(코드 상에서 리스트 a 외에 숫자를 사용하지 마시오.)\n",
        "```\n",
        "실행 예시 :\n",
        "[[1], [2], [3], [4], [5]]\n",
        "```"
      ],
      "metadata": {
        "id": "iWdkSn_fIqur"
      }
    },
    {
      "cell_type": "code",
      "source": [
        "a = [1,2,3,4,5]"
      ],
      "metadata": {
        "id": "5nro6XcIItwl"
      },
      "execution_count": null,
      "outputs": []
    },
    {
      "cell_type": "markdown",
      "source": [
        "## 문제\n",
        "\n",
        "리스트 a를 활용해서 다음과 같이 출력하시오.  \n",
        "(코드 상에서 리스트 a 외에 숫자를 사용하지 마시오.)\n",
        "```\n",
        "실행 예시 :\n",
        "[1, 3, 6, 10, 15]\n",
        "```"
      ],
      "metadata": {
        "id": "hEkA_tIRJbGC"
      }
    },
    {
      "cell_type": "code",
      "source": [
        "a = [1,2,3,4,5]"
      ],
      "metadata": {
        "id": "pl7-6zgdJcJX"
      },
      "execution_count": null,
      "outputs": []
    }
  ]
}